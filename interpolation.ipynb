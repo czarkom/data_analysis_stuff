{
 "cells": [
  {
   "cell_type": "code",
   "execution_count": 1,
   "metadata": {},
   "outputs": [],
   "source": [
    "import numpy as np\n",
    "def make_vandermond_matrix(poly_degree,x):\n",
    "    o = np.ones((len(x),1))\n",
    "    x_van = np.concatenate((o, x), axis=1)\n",
    "    for i in range(2, poly_degree+1):\n",
    "        x_temp = np.power(x,i)\n",
    "        x_van = np.concatenate((x_van,x_temp),1)\n",
    "    return x_van"
   ]
  },
  {
   "cell_type": "code",
   "execution_count": 11,
   "metadata": {},
   "outputs": [
    {
     "data": {
      "text/plain": [
       "array([[ 1],\n",
       "       [ 2],\n",
       "       [ 3],\n",
       "       [ 4],\n",
       "       [ 5],\n",
       "       [ 6],\n",
       "       [ 7],\n",
       "       [ 8],\n",
       "       [ 9],\n",
       "       [10],\n",
       "       [11],\n",
       "       [12],\n",
       "       [13],\n",
       "       [14],\n",
       "       [15],\n",
       "       [16],\n",
       "       [17],\n",
       "       [18],\n",
       "       [19],\n",
       "       [20]])"
      ]
     },
     "execution_count": 11,
     "metadata": {},
     "output_type": "execute_result"
    }
   ],
   "source": [
    "x=np.array([range(1,21)]).T\n",
    "x"
   ]
  },
  {
   "cell_type": "code",
   "execution_count": 12,
   "metadata": {},
   "outputs": [
    {
     "data": {
      "text/plain": [
       "array([[4.35994902],\n",
       "       [0.25926232],\n",
       "       [5.49662478],\n",
       "       [4.35322393],\n",
       "       [4.20367802],\n",
       "       [3.30334821],\n",
       "       [2.04648634],\n",
       "       [6.19270966],\n",
       "       [2.99654674],\n",
       "       [2.66827275],\n",
       "       [6.21133833],\n",
       "       [5.29142094],\n",
       "       [1.34579945],\n",
       "       [5.13578121],\n",
       "       [1.84439866],\n",
       "       [7.85335148],\n",
       "       [8.53975293],\n",
       "       [4.94236837],\n",
       "       [8.46561485],\n",
       "       [0.79645477]])"
      ]
     },
     "execution_count": 12,
     "metadata": {},
     "output_type": "execute_result"
    }
   ],
   "source": [
    "from numpy.random import rand\n",
    "np.random.seed(seed=2)\n",
    "y=10*np.array([rand(len(x))])\n",
    "y=y.T\n",
    "y"
   ]
  },
  {
   "cell_type": "code",
   "execution_count": 5,
   "metadata": {},
   "outputs": [
    {
     "name": "stdout",
     "output_type": "stream",
     "text": [
      "[[ 1.00000000e+00  1.00000000e+00  1.00000000e+00  1.00000000e+00\n",
      "   1.00000000e+00  1.00000000e+00  1.00000000e+00  1.00000000e+00\n",
      "   1.00000000e+00  1.00000000e+00  1.00000000e+00  1.00000000e+00\n",
      "   1.00000000e+00  1.00000000e+00  1.00000000e+00  1.00000000e+00\n",
      "   1.00000000e+00  1.00000000e+00  1.00000000e+00  1.00000000e+00]\n",
      " [ 1.00000000e+00  2.00000000e+00  4.00000000e+00  8.00000000e+00\n",
      "   1.60000000e+01  3.20000000e+01  6.40000000e+01  1.28000000e+02\n",
      "   2.56000000e+02  5.12000000e+02  1.02400000e+03  2.04800000e+03\n",
      "   4.09600000e+03  8.19200000e+03  1.63840000e+04  3.27680000e+04\n",
      "   6.55360000e+04  1.31072000e+05  2.62144000e+05  5.24288000e+05]\n",
      " [ 1.00000000e+00  3.00000000e+00  9.00000000e+00  2.70000000e+01\n",
      "   8.10000000e+01  2.43000000e+02  7.29000000e+02  2.18700000e+03\n",
      "   6.56100000e+03  1.96830000e+04  5.90490000e+04  1.77147000e+05\n",
      "   5.31441000e+05  1.59432300e+06  4.78296900e+06  1.43489070e+07\n",
      "   4.30467210e+07  1.29140163e+08  3.87420489e+08  1.16226147e+09]\n",
      " [ 1.00000000e+00  4.00000000e+00  1.60000000e+01  6.40000000e+01\n",
      "   2.56000000e+02  1.02400000e+03  4.09600000e+03  1.63840000e+04\n",
      "   6.55360000e+04  2.62144000e+05  1.04857600e+06  4.19430400e+06\n",
      "   1.67772160e+07  6.71088640e+07  2.68435456e+08  1.07374182e+09\n",
      "   0.00000000e+00  0.00000000e+00  0.00000000e+00  0.00000000e+00]\n",
      " [ 1.00000000e+00  5.00000000e+00  2.50000000e+01  1.25000000e+02\n",
      "   6.25000000e+02  3.12500000e+03  1.56250000e+04  7.81250000e+04\n",
      "   3.90625000e+05  1.95312500e+06  9.76562500e+06  4.88281250e+07\n",
      "   2.44140625e+08  1.22070312e+09  1.80854833e+09  4.52807053e+08\n",
      "  -2.03093203e+09 -1.56472556e+09  7.66306777e+08 -4.63433411e+08]\n",
      " [ 1.00000000e+00  6.00000000e+00  3.60000000e+01  2.16000000e+02\n",
      "   1.29600000e+03  7.77600000e+03  4.66560000e+04  2.79936000e+05\n",
      "   1.67961600e+06  1.00776960e+07  6.04661760e+07  3.62797056e+08\n",
      "  -2.11818496e+09  1.75792128e+08  1.05475277e+09  2.03354931e+09\n",
      "  -6.83606016e+08  1.93331200e+08  1.15998720e+09 -1.63001139e+09]\n",
      " [ 1.00000000e+00  7.00000000e+00  4.90000000e+01  3.43000000e+02\n",
      "   2.40100000e+03  1.68070000e+04  1.17649000e+05  8.23543000e+05\n",
      "   5.76480100e+06  4.03536070e+07  2.82475249e+08  1.97732674e+09\n",
      "   9.56385313e+08 -1.89523740e+09 -3.81759919e+08  1.62264786e+09\n",
      "  -1.52636685e+09 -2.09463334e+09 -1.77753147e+09  4.42181591e+08]\n",
      " [ 1.00000000e+00  8.00000000e+00  6.40000000e+01  5.12000000e+02\n",
      "   4.09600000e+03  3.27680000e+04  2.62144000e+05  2.09715200e+06\n",
      "   1.67772160e+07  1.34217728e+08  1.07374182e+09  0.00000000e+00\n",
      "   0.00000000e+00  0.00000000e+00  0.00000000e+00  0.00000000e+00\n",
      "   0.00000000e+00  0.00000000e+00  0.00000000e+00  0.00000000e+00]\n",
      " [ 1.00000000e+00  9.00000000e+00  8.10000000e+01  7.29000000e+02\n",
      "   6.56100000e+03  5.90490000e+04  5.31441000e+05  4.78296900e+06\n",
      "   4.30467210e+07  3.87420489e+08 -8.08182895e+08  1.31628854e+09\n",
      "  -1.03830506e+09 -7.54810903e+08  1.79663646e+09 -1.01014100e+09\n",
      "  -5.01334399e+08 -2.17042295e+08 -1.95338066e+09 -4.00556711e+08]\n",
      " [ 1.00000000e+00  1.00000000e+01  1.00000000e+02  1.00000000e+03\n",
      "   1.00000000e+04  1.00000000e+05  1.00000000e+06  1.00000000e+07\n",
      "   1.00000000e+08  1.00000000e+09  1.41006541e+09  1.21575219e+09\n",
      "  -7.27379968e+08  1.31613491e+09  2.76447232e+08 -1.53049498e+09\n",
      "   1.87491942e+09  1.56932506e+09 -1.48661862e+09 -1.98128435e+09]\n",
      " [ 1.00000000e+00  1.10000000e+01  1.21000000e+02  1.33100000e+03\n",
      "   1.46410000e+04  1.61051000e+05  1.77156100e+06  1.94871710e+07\n",
      "   2.14358881e+08 -1.93701960e+09  1.67620825e+08  1.84382908e+09\n",
      "  -1.19271666e+09 -2.34981317e+08  1.71017281e+09  1.63203172e+09\n",
      "   7.72479681e+08 -9.26581010e+07 -1.01923911e+09  1.67327167e+09]\n",
      " [ 1.00000000e+00  1.20000000e+01  1.44000000e+02  1.72800000e+03\n",
      "   2.07360000e+04  2.48832000e+05  2.98598400e+06  3.58318080e+07\n",
      "   4.29981696e+08  8.64813056e+08  1.78782208e+09 -2.09715200e+07\n",
      "  -2.51658240e+08  1.27506842e+09 -1.87904819e+09 -1.07374182e+09\n",
      "   0.00000000e+00  0.00000000e+00  0.00000000e+00  0.00000000e+00]\n",
      " [ 1.00000000e+00  1.30000000e+01  1.69000000e+02  2.19700000e+03\n",
      "   2.85610000e+04  3.71293000e+05  4.82680900e+06  6.27485170e+07\n",
      "   8.15730721e+08  2.01456478e+09  4.19538377e+08  1.15903160e+09\n",
      "  -2.11245832e+09 -1.69215437e+09 -5.23170343e+08  1.78872013e+09\n",
      "   1.77852525e+09  1.64599176e+09 -7.69436390e+07 -1.00026731e+09]\n",
      " [ 1.00000000e+00  1.40000000e+01  1.96000000e+02  2.74400000e+03\n",
      "   3.84160000e+04  5.37824000e+05  7.52953600e+06  1.05413504e+08\n",
      "   1.47578906e+09 -8.13789696e+08  1.49184614e+09 -5.88990464e+08\n",
      "   3.44068096e+08  5.21986048e+08 -1.28212992e+09 -7.69949696e+08\n",
      "   2.10560614e+09 -5.86285056e+08  3.81943808e+08  1.05224602e+09]\n",
      " [ 1.00000000e+00  1.50000000e+01  2.25000000e+02  3.37500000e+03\n",
      "   5.06250000e+04  7.59375000e+05  1.13906250e+07  1.70859375e+08\n",
      "  -1.73207667e+09 -2.11346289e+08  1.12477296e+09 -3.08274769e+08\n",
      "  -3.29154239e+08 -6.42346289e+08 -1.04525974e+09  1.50097304e+09\n",
      "   1.03975910e+09 -1.58348261e+09  2.01756464e+09  1.98698543e+08]\n",
      " [ 1.00000000e+00  1.60000000e+01  2.56000000e+02  4.09600000e+03\n",
      "   6.55360000e+04  1.04857600e+06  1.67772160e+07  2.68435456e+08\n",
      "   0.00000000e+00  0.00000000e+00  0.00000000e+00  0.00000000e+00\n",
      "   0.00000000e+00  0.00000000e+00  0.00000000e+00  0.00000000e+00\n",
      "   0.00000000e+00  0.00000000e+00  0.00000000e+00  0.00000000e+00]\n",
      " [ 1.00000000e+00  1.70000000e+01  2.89000000e+02  4.91300000e+03\n",
      "   8.35210000e+04  1.41985700e+06  2.41375690e+07  4.10338673e+08\n",
      "  -1.61417715e+09 -1.67120779e+09  1.65423862e+09 -1.94271445e+09\n",
      "   1.33359277e+09  1.19624059e+09 -1.13874640e+09  2.11614770e+09\n",
      "   1.61477248e+09  1.68132840e+09 -1.48218826e+09  5.72603441e+08]\n",
      " [ 1.00000000e+00  1.80000000e+01  3.24000000e+02  5.83200000e+03\n",
      "   1.04976000e+05  1.88956800e+06  3.40122240e+07  6.12220032e+08\n",
      "  -1.86494131e+09  7.90794752e+08  1.34940365e+09 -1.48053811e+09\n",
      "  -8.79882240e+08  1.34198886e+09 -1.61400422e+09  1.01269504e+09\n",
      "   1.04864154e+09  1.69567846e+09  4.57441280e+08 -3.55991552e+08]\n",
      " [ 1.00000000e+00  1.90000000e+01  3.61000000e+02  6.85900000e+03\n",
      "   1.30321000e+05  2.47609900e+06  4.70458810e+07  8.93871739e+08\n",
      "  -1.96306143e+08  5.65150579e+08 -2.14704089e+09 -2.13907119e+09\n",
      "  -1.98764693e+09  8.89414051e+08 -2.81002215e+08 -1.04407479e+09\n",
      "   1.63741549e+09  1.04612322e+09 -1.59849532e+09 -3.06639989e+08]\n",
      " [ 1.00000000e+00  2.00000000e+01  4.00000000e+02  8.00000000e+03\n",
      "   1.60000000e+05  3.20000000e+06  6.40000000e+07  1.28000000e+09\n",
      "  -1.69803776e+08  8.98891776e+08  7.97966336e+08 -1.22054246e+09\n",
      "   1.35895450e+09  1.40928614e+09 -1.87904819e+09  1.07374182e+09\n",
      "   0.00000000e+00  0.00000000e+00  0.00000000e+00  0.00000000e+00]]\n"
     ]
    }
   ],
   "source": [
    "x_van = make_vandermond_matrix(19,x)\n",
    "print(x_van)"
   ]
  },
  {
   "cell_type": "code",
   "execution_count": 6,
   "metadata": {},
   "outputs": [
    {
     "data": {
      "text/plain": [
       "array([[ 4.60555167e+00],\n",
       "       [ 5.86357883e+00],\n",
       "       [-9.07078487e+00],\n",
       "       [ 3.47399269e+00],\n",
       "       [-5.53770704e-01],\n",
       "       [ 4.29648215e-02],\n",
       "       [-1.61215632e-03],\n",
       "       [ 2.34306175e-05],\n",
       "       [-3.61491925e-11],\n",
       "       [ 4.08759156e-09],\n",
       "       [-9.47196632e-09],\n",
       "       [ 1.61439169e-09],\n",
       "       [ 1.74196060e-09],\n",
       "       [ 8.52284729e-09],\n",
       "       [-3.25025616e-09],\n",
       "       [ 3.12235159e-09],\n",
       "       [ 2.45556128e-09],\n",
       "       [ 1.07203850e-09],\n",
       "       [ 9.29165030e-10],\n",
       "       [ 5.18892678e-09]])"
      ]
     },
     "execution_count": 6,
     "metadata": {},
     "output_type": "execute_result"
    }
   ],
   "source": [
    "a=np.dot(np.linalg.pinv(x_van),y)\n",
    "a"
   ]
  },
  {
   "cell_type": "code",
   "execution_count": 7,
   "metadata": {},
   "outputs": [
    {
     "data": {
      "text/plain": [
       "array([[4.35994373],\n",
       "       [0.25926276],\n",
       "       [5.49662404],\n",
       "       [4.35322106],\n",
       "       [4.2036663 ],\n",
       "       [3.30334   ],\n",
       "       [2.04647335],\n",
       "       [6.1927096 ],\n",
       "       [2.99653364],\n",
       "       [2.66827438],\n",
       "       [6.21134271],\n",
       "       [5.2914222 ],\n",
       "       [1.34581022],\n",
       "       [5.13579069],\n",
       "       [1.84440351],\n",
       "       [7.85334801],\n",
       "       [8.53976212],\n",
       "       [4.94237833],\n",
       "       [8.46561365],\n",
       "       [0.7964561 ]])"
      ]
     },
     "execution_count": 7,
     "metadata": {},
     "output_type": "execute_result"
    }
   ],
   "source": [
    "wynik=np.dot(x_van,a)\n",
    "wynik"
   ]
  },
  {
   "cell_type": "code",
   "execution_count": 85,
   "metadata": {},
   "outputs": [
    {
     "data": {
      "text/plain": [
       "array([[4.35994902],\n",
       "       [0.25926232],\n",
       "       [5.49662478],\n",
       "       [4.35322393],\n",
       "       [4.20367802],\n",
       "       [3.30334821],\n",
       "       [2.04648634],\n",
       "       [6.19270966],\n",
       "       [2.99654674],\n",
       "       [2.66827275],\n",
       "       [6.21133833],\n",
       "       [5.29142094],\n",
       "       [1.34579945],\n",
       "       [5.13578121],\n",
       "       [1.84439866],\n",
       "       [7.85335148],\n",
       "       [8.53975293],\n",
       "       [4.94236837],\n",
       "       [8.46561485],\n",
       "       [0.79645477]])"
      ]
     },
     "execution_count": 85,
     "metadata": {},
     "output_type": "execute_result"
    }
   ],
   "source": [
    "y"
   ]
  },
  {
   "cell_type": "code",
   "execution_count": 8,
   "metadata": {},
   "outputs": [
    {
     "name": "stdout",
     "output_type": "stream",
     "text": [
      "[ 1.65230265e-12 -3.28151374e-10  3.03490886e-08 -1.73588500e-06\n",
      "  6.87743001e-05 -2.00317710e-03  4.44287847e-02 -7.66784480e-01\n",
      "  1.04336819e+01 -1.12715307e+02  9.68702844e+02 -6.60697772e+03\n",
      "  3.55131470e+04 -1.48617465e+05  4.75236912e+05 -1.12915986e+06\n",
      "  1.91046912e+06 -2.14929537e+06  1.41891138e+06 -4.07312221e+05]\n"
     ]
    }
   ],
   "source": [
    "from scipy.interpolate import lagrange\n",
    "poly = lagrange(x[:,0], y[:,0])\n",
    "print(poly._coeffs)"
   ]
  },
  {
   "cell_type": "code",
   "execution_count": 9,
   "metadata": {},
   "outputs": [
    {
     "data": {
      "text/plain": [
       "array([4.35994901, 0.2592623 , 5.49662485, 4.35322445, 4.20368068,\n",
       "       3.30335836, 2.04652169, 6.19282782, 2.99689832, 2.66914064,\n",
       "       6.21340922, 5.29633347, 1.35405461, 5.15231975, 1.88656573,\n",
       "       7.9195383 , 8.69377992, 5.13375434, 8.79516821, 1.36890646])"
      ]
     },
     "execution_count": 9,
     "metadata": {},
     "output_type": "execute_result"
    }
   ],
   "source": [
    "from numpy.polynomial.polynomial import polyval\n",
    "poly(x[:,0])"
   ]
  },
  {
   "cell_type": "code",
   "execution_count": 10,
   "metadata": {},
   "outputs": [
    {
     "data": {
      "text/plain": [
       "array([[ 4.60555167e+00],\n",
       "       [ 5.86357883e+00],\n",
       "       [-9.07078487e+00],\n",
       "       [ 3.47399269e+00],\n",
       "       [-5.53770704e-01],\n",
       "       [ 4.29648215e-02],\n",
       "       [-1.61215632e-03],\n",
       "       [ 2.34306175e-05],\n",
       "       [-3.61491925e-11],\n",
       "       [ 4.08759156e-09],\n",
       "       [-9.47196632e-09],\n",
       "       [ 1.61439169e-09],\n",
       "       [ 1.74196060e-09],\n",
       "       [ 8.52284729e-09],\n",
       "       [-3.25025616e-09],\n",
       "       [ 3.12235159e-09],\n",
       "       [ 2.45556128e-09],\n",
       "       [ 1.07203850e-09],\n",
       "       [ 9.29165030e-10],\n",
       "       [ 5.18892678e-09]])"
      ]
     },
     "execution_count": 10,
     "metadata": {},
     "output_type": "execute_result"
    }
   ],
   "source": [
    "a"
   ]
  },
  {
   "cell_type": "code",
   "execution_count": 17,
   "metadata": {},
   "outputs": [],
   "source": [
    "\n",
    "def make_vandemort_matrix(poly_degree, x):\n",
    "    o = np.ones((len(x), 1))\n",
    "    x_van = np.concatenate((o, x), axis = 1)\n",
    "    for i in range(2, poly_degree+1):\n",
    "        x_temp = np.power(x, i)\n",
    "        x_van = np.concatenate((x_van, x_temp), 1)\n",
    "    return x_van"
   ]
  },
  {
   "cell_type": "code",
   "execution_count": 21,
   "metadata": {},
   "outputs": [
    {
     "name": "stdout",
     "output_type": "stream",
     "text": [
      "[[ 1]\n",
      " [ 2]\n",
      " [ 3]\n",
      " [ 4]\n",
      " [ 5]\n",
      " [ 6]\n",
      " [ 7]\n",
      " [ 8]\n",
      " [ 9]\n",
      " [10]\n",
      " [11]\n",
      " [12]\n",
      " [13]\n",
      " [14]\n",
      " [15]\n",
      " [16]\n",
      " [17]\n",
      " [18]\n",
      " [19]\n",
      " [20]]\n",
      "[[4.35994902]\n",
      " [0.25926232]\n",
      " [5.49662478]\n",
      " [4.35322393]\n",
      " [4.20367802]\n",
      " [3.30334821]\n",
      " [2.04648634]\n",
      " [6.19270966]\n",
      " [2.99654674]\n",
      " [2.66827275]\n",
      " [6.21133833]\n",
      " [5.29142094]\n",
      " [1.34579945]\n",
      " [5.13578121]\n",
      " [1.84439866]\n",
      " [7.85335148]\n",
      " [8.53975293]\n",
      " [4.94236837]\n",
      " [8.46561485]\n",
      " [0.79645477]]\n"
     ]
    },
    {
     "data": {
      "image/png": "[encoded data removed]",
      "text/plain": [
       "<Figure size 720x720 with 1 Axes>"
      ]
     },
     "metadata": {
      "needs_background": "light"
     },
     "output_type": "display_data"
    }
   ],
   "source": [
    "import pandas as pd\n",
    "import numpy as np\n",
    "import seaborn as sns\n",
    "import matplotlib.pyplot as plt\n",
    "import os as os\n",
    "from sklearn.model_selection import train_test_split \n",
    "from sklearn.linear_model import LinearRegression\n",
    "from sklearn import metrics\n",
    "\n",
    "print(x)\n",
    "print(y)\n",
    "# x = df.x\n",
    "# y = df.y\n",
    "x_arr = np.array([x]).T\n",
    "y_arr = np.array([y]).T\n",
    "plt.figure(figsize=(10,10))\n",
    "degrees = range(1,20) #stopnie wielomianu w analizie\n",
    "error = np.zeros(len(degrees))\n",
    "for i in degrees:\n",
    "    y_pred_dots = 0\n",
    "    x_van = make_vandemort_matrix(i, x)\n",
    "    omega = np.dot(np.linalg.pinv(x_van), y)\n",
    "    y_pred_dots = np.dot(x_van, omega)\n",
    "    error[i-1] = metrics.mean_squared_error(y_pred_dots, y)\n",
    "\n",
    "plt.plot(degrees, error)\n",
    "plt.xlabel(\"Stopień wielomianu\")\n",
    "plt.ylabel(\"Błąd średniokwadratowy dopasowania krzywej\")\n",
    "plt.show()"
   ]
  },
  {
   "cell_type": "code",
   "execution_count": null,
   "metadata": {},
   "outputs": [],
   "source": []
  }
 ],
 "metadata": {
  "kernelspec": {
   "display_name": "Python 3",
   "language": "python",
   "name": "python3"
  },
  "language_info": {
   "codemirror_mode": {
    "name": "ipython",
    "version": 3
   },
   "file_extension": ".py",
   "mimetype": "text/x-python",
   "name": "python",
   "nbconvert_exporter": "python",
   "pygments_lexer": "ipython3",
   "version": "3.7.6"
  }
 },
 "nbformat": 4,
 "nbformat_minor": 4
}
